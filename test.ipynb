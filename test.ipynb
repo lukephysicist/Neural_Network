{
 "cells": [
  {
   "cell_type": "code",
   "execution_count": 50,
   "metadata": {},
   "outputs": [],
   "source": [
    "import numpy as np\n",
    "import imports as im\n",
    "\n",
    "inputs = np.array([[2.5, 5],\n",
    "                   [4.6,-5.7],\n",
    "                   [5.5, -2.3]])\n",
    "\n",
    "truths = np.array([[1,0],\n",
    "                   [0,1],\n",
    "                   [1,0]])"
   ]
  },
  {
   "cell_type": "code",
   "execution_count": 51,
   "metadata": {},
   "outputs": [],
   "source": [
    "network = im.Network([im.DenseLayer(2, 3, 'relu'),\n",
    "                      im.DenseLayer(3, 3, \"relu\"),\n",
    "                      im.DenseLayer(3, 2, \"linear\")], rate=.0001)\n",
    "\n"
   ]
  },
  {
   "cell_type": "code",
   "execution_count": 52,
   "metadata": {},
   "outputs": [
    {
     "data": {
      "text/plain": [
       "array([[ -0.02827931,  -0.47335807],\n",
       "       [ -0.36083613, -17.31849866],\n",
       "       [ -0.13224248,  -6.22536483]])"
      ]
     },
     "execution_count": 52,
     "metadata": {},
     "output_type": "execute_result"
    }
   ],
   "source": [
    "outs = network.network_forward(inputs, truths)\n",
    "\n",
    "outs"
   ]
  },
  {
   "cell_type": "code",
   "execution_count": 53,
   "metadata": {},
   "outputs": [
    {
     "name": "stdout",
     "output_type": "stream",
     "text": [
      "125.67205411863857\n"
     ]
    }
   ],
   "source": [
    "print(network.loss)"
   ]
  },
  {
   "cell_type": "code",
   "execution_count": 54,
   "metadata": {},
   "outputs": [
    {
     "data": {
      "text/plain": [
       "array([[ 1.68090528, 16.67814771],\n",
       "       [ 1.68090528, 16.67814771],\n",
       "       [ 1.68090528, 16.67814771]])"
      ]
     },
     "execution_count": 54,
     "metadata": {},
     "output_type": "execute_result"
    }
   ],
   "source": [
    "network.network_back(truths)\n",
    "\n",
    "outs = network.network_forward(inputs, truths)\n",
    "outs"
   ]
  },
  {
   "cell_type": "code",
   "execution_count": 55,
   "metadata": {},
   "outputs": [
    {
     "name": "stdout",
     "output_type": "stream",
     "text": [
      "268.6260813407377\n"
     ]
    }
   ],
   "source": [
    "print(network.loss)"
   ]
  },
  {
   "cell_type": "code",
   "execution_count": 15,
   "metadata": {},
   "outputs": [
    {
     "name": "stdout",
     "output_type": "stream",
     "text": [
      "network inputs: [array(['a', 'b', 'c', 'd', 'e', 'f', 'g', 'h', 'i', 'j'], dtype='<U1'), array(['k', 'l', 'm', 'n', 'o', 'p', 'q', 'r', 's', 't'], dtype='<U1'), array(['u', 'v', 'w', 'x', 'y', 'z'], dtype='<U1')]\n",
      "network truths: [array(['a*', 'b*', 'c*', 'd*', 'e*', 'f*', 'g*', 'h*', 'i*', 'j*'],\n",
      "      dtype='<U2'), array(['k*', 'l*', 'm*', 'n*', 'o*', 'p*', 'q*', 'r*', 's*', 't*'],\n",
      "      dtype='<U2'), array(['u*', 'v*', 'w*', 'x*', 'y*', 'z*'], dtype='<U2')]\n",
      "testinginputs: ['0' '1' '2' '3' '4' '5' '6' '7' '8' '9']\n",
      "testing truths: ['0*' '1*' '2*' '3*' '4*' '5*' '6*' '7*' '8*' '9*']\n",
      "True\n",
      "True\n"
     ]
    }
   ],
   "source": [
    "training_samples = {chr(i): chr(i) + '*' for i in range(ord('a'), ord('z') + 1)}\n",
    "testing_samples = {str(i): str(i) + \"*\" for i in range(10)}\n",
    "\n",
    "training_set = [dict(list(training_samples.items())[i: i+10]) for i in range(0, len(training_samples.items()), 10)]\n",
    "\n",
    "network_inputs = [np.array(list(batch.keys())) for batch in training_set]\n",
    "network_truths = [np.array(list(batch.values())) for batch in training_set]\n",
    "\n",
    "testing_inputs = np.array(list(testing_samples.keys()))\n",
    "testing_truths = np.array(list(testing_samples.values()))\n",
    "\n",
    "\n",
    "print(f'network inputs: {network_inputs}')\n",
    "print(f'network truths: {network_truths}')\n",
    "\n",
    "print(f'testinginputs: {testing_inputs}')\n",
    "print(f'testing truths: {testing_truths}')\n",
    "\n",
    "print(isinstance(testing_inputs, np.ndarray))  # Should print True\n",
    "print(isinstance(testing_truths, np.ndarray))  # Should print True"
   ]
  },
  {
   "cell_type": "code",
   "execution_count": 14,
   "metadata": {},
   "outputs": [
    {
     "data": {
      "image/png": "[encoded data removed]",
      "text/plain": [
       "<Figure size 640x480 with 1 Axes>"
      ]
     },
     "metadata": {},
     "output_type": "display_data"
    }
   ],
   "source": [
    "import matplotlib.pyplot as plt\n",
    "\n",
    "# Example list of values\n",
    "values = [10, 20, 15, 25, 30, 20, 40]\n",
    "\n",
    "# Plotting the line plot\n",
    "plt.plot(values)\n",
    "\n",
    "# Adding labels and title\n",
    "plt.xlabel('Time')\n",
    "plt.ylabel('Value')\n",
    "plt.title('Line Plot of Values Over Time')\n",
    "\n",
    "# Display the plot\n",
    "plt.show()"
   ]
  },
  {
   "cell_type": "code",
   "execution_count": 59,
   "metadata": {},
   "outputs": [],
   "source": [
    "import random\n",
    "\n",
    "training_samples = {}\n",
    "for i in range(6000):\n",
    "    x = random.uniform(-10,10)\n",
    "    y = random.uniform(-10,10)\n",
    "    z = x**2 * y\n",
    "    training_samples[(x,y)] = z\n",
    "\n",
    "testing_samples = {}\n",
    "for i in range(10):\n",
    "    x = random.uniform(-10,10)\n",
    "    y = random.uniform(-10,10)\n",
    "    z = x**2 * y\n",
    "    training_samples[(x,y)] = z"
   ]
  },
  {
   "cell_type": "code",
   "execution_count": 61,
   "metadata": {},
   "outputs": [
    {
     "ename": "ValueError",
     "evalue": "setting an array element with a sequence. The requested array has an inhomogeneous shape after 1 dimensions. The detected shape was (188,) + inhomogeneous part.",
     "output_type": "error",
     "traceback": [
      "\u001b[1;31m---------------------------------------------------------------------------\u001b[0m",
      "\u001b[1;31mValueError\u001b[0m                                Traceback (most recent call last)",
      "Cell \u001b[1;32mIn[61], line 4\u001b[0m\n\u001b[0;32m      1\u001b[0m network \u001b[38;5;241m=\u001b[39m im\u001b[38;5;241m.\u001b[39mNetwork([im\u001b[38;5;241m.\u001b[39mDenseLayer(\u001b[38;5;241m2\u001b[39m, \u001b[38;5;241m3\u001b[39m, \u001b[38;5;124m'\u001b[39m\u001b[38;5;124mrelu\u001b[39m\u001b[38;5;124m'\u001b[39m),\n\u001b[0;32m      2\u001b[0m                       im\u001b[38;5;241m.\u001b[39mDenseLayer(\u001b[38;5;241m3\u001b[39m, \u001b[38;5;241m2\u001b[39m, \u001b[38;5;124m\"\u001b[39m\u001b[38;5;124mrelu\u001b[39m\u001b[38;5;124m\"\u001b[39m),\n\u001b[0;32m      3\u001b[0m                       im\u001b[38;5;241m.\u001b[39mDenseLayer(\u001b[38;5;241m2\u001b[39m, \u001b[38;5;241m1\u001b[39m, \u001b[38;5;124m\"\u001b[39m\u001b[38;5;124mlinear\u001b[39m\u001b[38;5;124m\"\u001b[39m)], rate\u001b[38;5;241m=\u001b[39m\u001b[38;5;241m.0001\u001b[39m)\n\u001b[1;32m----> 4\u001b[0m \u001b[43mnetwork\u001b[49m\u001b[38;5;241;43m.\u001b[39;49m\u001b[43mtrain_test\u001b[49m\u001b[43m(\u001b[49m\n\u001b[0;32m      5\u001b[0m \u001b[43m                    \u001b[49m\u001b[43mtraining_samples\u001b[49m\u001b[38;5;241;43m=\u001b[39;49m\u001b[43mtraining_samples\u001b[49m\u001b[43m,\u001b[49m\u001b[43m \u001b[49m\n\u001b[0;32m      6\u001b[0m \u001b[43m                    \u001b[49m\u001b[43mtesting_samples\u001b[49m\u001b[38;5;241;43m=\u001b[39;49m\u001b[43mtesting_samples\u001b[49m\u001b[43m,\u001b[49m\u001b[43m \u001b[49m\n\u001b[0;32m      7\u001b[0m \u001b[43m                    \u001b[49m\u001b[43mbatch_size\u001b[49m\u001b[38;5;241;43m=\u001b[39;49m\u001b[38;5;241;43m32\u001b[39;49m\n\u001b[0;32m      8\u001b[0m \u001b[43m                    \u001b[49m\u001b[43m)\u001b[49m\n",
      "File \u001b[1;32mc:\\Users\\ldwen\\Documents\\SELF_LEARNING\\Neural_Network\\imports.py:126\u001b[0m, in \u001b[0;36mtrain_test\u001b[1;34m(self, training_samples, testing_samples, batch_size)\u001b[0m\n\u001b[0;32m    124\u001b[0m \u001b[38;5;66;03m# trains the network on each batch in the traning set\u001b[39;00m\n\u001b[0;32m    125\u001b[0m loss_ys \u001b[38;5;241m=\u001b[39m []\n\u001b[1;32m--> 126\u001b[0m \u001b[38;5;28;01mfor\u001b[39;00m i \u001b[38;5;129;01min\u001b[39;00m \u001b[38;5;28mrange\u001b[39m(\u001b[38;5;28mlen\u001b[39m(network_inputs)):\n\u001b[0;32m    127\u001b[0m     \u001b[38;5;28mself\u001b[39m\u001b[38;5;241m.\u001b[39mnetwork_forward(network_inputs\u001b[38;5;241m=\u001b[39mnetwork_inputs[i], truths\u001b[38;5;241m=\u001b[39mnetwork_truths)\n\u001b[0;32m    128\u001b[0m     loss_ys\u001b[38;5;241m.\u001b[39mappend(\u001b[38;5;28mself\u001b[39m\u001b[38;5;241m.\u001b[39mloss)\n",
      "File \u001b[1;32mc:\\Users\\ldwen\\Documents\\SELF_LEARNING\\Neural_Network\\imports.py:106\u001b[0m, in \u001b[0;36mnetwork_forward\u001b[1;34m(self, network_inputs, truths)\u001b[0m\n\u001b[0;32m    102\u001b[0m     layer_inputs \u001b[38;5;241m=\u001b[39m layer\u001b[38;5;241m.\u001b[39mforward(layer_inputs)\n\u001b[0;32m    104\u001b[0m \u001b[38;5;28mself\u001b[39m\u001b[38;5;241m.\u001b[39mout \u001b[38;5;241m=\u001b[39m layer_inputs\n\u001b[1;32m--> 106\u001b[0m \u001b[38;5;28;01mif\u001b[39;00m \u001b[38;5;28mlen\u001b[39m(truths) \u001b[38;5;241m!=\u001b[39m \u001b[38;5;241m0\u001b[39m:\n\u001b[0;32m    107\u001b[0m     \u001b[38;5;28mself\u001b[39m\u001b[38;5;241m.\u001b[39mloss \u001b[38;5;241m=\u001b[39m \u001b[38;5;28mself\u001b[39m\u001b[38;5;241m.\u001b[39mloss_func(\u001b[38;5;28mself\u001b[39m\u001b[38;5;241m.\u001b[39mout, truths)\n\u001b[0;32m    109\u001b[0m \u001b[38;5;28;01mreturn\u001b[39;00m \u001b[38;5;28mself\u001b[39m\u001b[38;5;241m.\u001b[39mout\n",
      "File \u001b[1;32mc:\\Users\\ldwen\\Documents\\SELF_LEARNING\\Neural_Network\\imports.py:196\u001b[0m, in \u001b[0;36mmean_sq_error\u001b[1;34m(inputs, truths)\u001b[0m\n\u001b[0;32m      0\u001b[0m <Error retrieving source code with stack_data see ipython/ipython#13598>\n",
      "\u001b[1;31mValueError\u001b[0m: setting an array element with a sequence. The requested array has an inhomogeneous shape after 1 dimensions. The detected shape was (188,) + inhomogeneous part."
     ]
    }
   ],
   "source": [
    "network = im.Network([im.DenseLayer(2, 3, 'relu'),\n",
    "                      im.DenseLayer(3, 2, \"relu\"),\n",
    "                      im.DenseLayer(2, 1, \"linear\")], rate=.0001)\n",
    "network.train_test(\n",
    "                    training_samples=training_samples, \n",
    "                    testing_samples=testing_samples, \n",
    "                    batch_size=32\n",
    "                    )"
   ]
  }
 ],
 "metadata": {
  "kernelspec": {
   "display_name": "Python 3",
   "language": "python",
   "name": "python3"
  },
  "language_info": {
   "codemirror_mode": {
    "name": "ipython",
    "version": 3
   },
   "file_extension": ".py",
   "mimetype": "text/x-python",
   "name": "python",
   "nbconvert_exporter": "python",
   "pygments_lexer": "ipython3",
   "version": "3.11.4"
  }
 },
 "nbformat": 4,
 "nbformat_minor": 2
}
