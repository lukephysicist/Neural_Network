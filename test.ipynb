{
 "cells": [
  {
   "cell_type": "code",
   "execution_count": 1,
   "metadata": {},
   "outputs": [],
   "source": [
    "import numpy as np\n",
    "import imports as im\n",
    "\n",
    "inputs = np.array([[2.5, 5, -1.3],\n",
    "                   [4.6,-5.7, 4.1],\n",
    "                   [5.5, -2.3, -3.9]])\n",
    "\n",
    "truths = np.array([[1,0],\n",
    "                   [0,1],\n",
    "                   [1,0]])"
   ]
  },
  {
   "cell_type": "code",
   "execution_count": 2,
   "metadata": {},
   "outputs": [],
   "source": [
    "layers = [im.DenseLayer(3, 3, 'relu'),\n",
    "          im.DenseLayer(3, 4, \"relu\"),\n",
    "          im.DenseLayer(4, 2, \"softmax\")]\n",
    "\n",
    "network = im.Network(layers)"
   ]
  },
  {
   "cell_type": "code",
   "execution_count": 3,
   "metadata": {},
   "outputs": [
    {
     "data": {
      "text/plain": [
       "array([[0.5       , 0.5       ],\n",
       "       [0.50158238, 0.49841762],\n",
       "       [0.50019328, 0.49980672]])"
      ]
     },
     "execution_count": 3,
     "metadata": {},
     "output_type": "execute_result"
    }
   ],
   "source": [
    "outs = network.network_forward(inputs)\n",
    "\n",
    "outs"
   ]
  }
 ],
 "metadata": {
  "kernelspec": {
   "display_name": "Python 3",
   "language": "python",
   "name": "python3"
  },
  "language_info": {
   "codemirror_mode": {
    "name": "ipython",
    "version": 3
   },
   "file_extension": ".py",
   "mimetype": "text/x-python",
   "name": "python",
   "nbconvert_exporter": "python",
   "pygments_lexer": "ipython3",
   "version": "3.11.3"
  }
 },
 "nbformat": 4,
 "nbformat_minor": 2
}
