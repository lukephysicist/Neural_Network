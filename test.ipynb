{
 "cells": [
  {
   "cell_type": "code",
   "execution_count": 6,
   "metadata": {},
   "outputs": [],
   "source": [
    "import numpy as np\n",
    "import imports as im\n",
    "\n",
    "inputs = np.array([[2.5, 5],\n",
    "                   [4.6,-5.7],\n",
    "                   [5.5, -2.3]])\n",
    "\n",
    "truths = np.array([[1,0],\n",
    "                   [0,1],\n",
    "                   [1,0]])"
   ]
  },
  {
   "cell_type": "code",
   "execution_count": 7,
   "metadata": {},
   "outputs": [],
   "source": [
    "network = im.Network([im.DenseLayer(2, 3, 'relu'),\n",
    "                      im.DenseLayer(3, 3, \"relu\"),\n",
    "                      im.DenseLayer(3, 2, \"linear\")])\n",
    "\n"
   ]
  },
  {
   "cell_type": "code",
   "execution_count": 8,
   "metadata": {},
   "outputs": [
    {
     "data": {
      "text/plain": [
       "array([[0.50001519, 0.49998481],\n",
       "       [0.50001497, 0.49998503],\n",
       "       [0.5       , 0.5       ]])"
      ]
     },
     "execution_count": 8,
     "metadata": {},
     "output_type": "execute_result"
    }
   ],
   "source": [
    "outs = network.network_forward(inputs, truths)\n",
    "\n",
    "outs"
   ]
  },
  {
   "cell_type": "code",
   "execution_count": 9,
   "metadata": {},
   "outputs": [
    {
     "name": "stdout",
     "output_type": "stream",
     "text": [
      "0.49999985514769874\n"
     ]
    }
   ],
   "source": [
    "print(network.loss)"
   ]
  }
 ],
 "metadata": {
  "kernelspec": {
   "display_name": "Python 3",
   "language": "python",
   "name": "python3"
  },
  "language_info": {
   "codemirror_mode": {
    "name": "ipython",
    "version": 3
   },
   "file_extension": ".py",
   "mimetype": "text/x-python",
   "name": "python",
   "nbconvert_exporter": "python",
   "pygments_lexer": "ipython3",
   "version": "3.11.3"
  }
 },
 "nbformat": 4,
 "nbformat_minor": 2
}
