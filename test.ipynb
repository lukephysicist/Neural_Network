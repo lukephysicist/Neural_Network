{
 "cells": [
  {
   "cell_type": "code",
   "execution_count": 2,
   "metadata": {},
   "outputs": [],
   "source": [
    "import numpy as np\n",
    "import imports as im\n",
    "\n",
    "inputs = np.array([[2.5, 5],\n",
    "                   [4.6,-5.7],\n",
    "                   [5.5, -2.3]])\n",
    "\n",
    "truths = np.array([[1,0,0],\n",
    "                   [0,0,1],\n",
    "                   [0,1,0]])"
   ]
  },
  {
   "cell_type": "code",
   "execution_count": 6,
   "metadata": {},
   "outputs": [],
   "source": [
    "test = np.array([])"
   ]
  },
  {
   "cell_type": "code",
   "execution_count": null,
   "metadata": {},
   "outputs": [
    {
     "name": "stdout",
     "output_type": "stream",
     "text": [
      "pre weights:[[ 0.0608278   0.00028657 -0.03945635]\n",
      " [ 0.16482148  0.00505436  0.11285409]]\n",
      "pre biases:[[0. 0. 0.]]\n",
      "post weights:[[ 0.04306608 -0.00356463 -0.04313972]\n",
      " [ 0.18460854  0.00066682  0.08566981]]\n",
      "post biases:[[-0.0009622  -0.00082824 -0.00059182]]\n"
     ]
    }
   ],
   "source": [
    "layer1 = im.DenseLayer(2,3, im.sigmoid)\n",
    "print(f'pre weights:{layer1.weights}')\n",
    "print(f'pre biases:{layer1.biases}')\n",
    "layer1.forward(inputs)\n",
    "\n",
    "layer1.back(inputs, truths, .01)\n",
    "print(f'post weights:{layer1.weights}')\n",
    "print(f'post biases:{layer1.biases}')"
   ]
  },
  {
   "cell_type": "code",
   "execution_count": null,
   "metadata": {},
   "outputs": [
    {
     "ename": "NameError",
     "evalue": "name 'out' is not defined",
     "output_type": "error",
     "traceback": [
      "\u001b[1;31m---------------------------------------------------------------------------\u001b[0m",
      "\u001b[1;31mNameError\u001b[0m                                 Traceback (most recent call last)",
      "Cell \u001b[1;32mIn[3], line 5\u001b[0m\n\u001b[0;32m      1\u001b[0m truths \u001b[38;5;241m=\u001b[39m np\u001b[38;5;241m.\u001b[39marray([[\u001b[38;5;241m0\u001b[39m,\u001b[38;5;241m0\u001b[39m,\u001b[38;5;241m1\u001b[39m],\n\u001b[0;32m      2\u001b[0m                    [\u001b[38;5;241m0\u001b[39m,\u001b[38;5;241m1\u001b[39m,\u001b[38;5;241m0\u001b[39m],\n\u001b[0;32m      3\u001b[0m                    [\u001b[38;5;241m0\u001b[39m,\u001b[38;5;241m0\u001b[39m,\u001b[38;5;241m1\u001b[39m]])\n\u001b[1;32m----> 5\u001b[0m im\u001b[38;5;241m.\u001b[39mmean_sq_error(\u001b[43mout\u001b[49m, truths)\n",
      "\u001b[1;31mNameError\u001b[0m: name 'out' is not defined"
     ]
    }
   ],
   "source": [
    "truths = np.array([[0,0,1],\n",
    "                   [0,1,0],\n",
    "                   [0,0,1]])\n",
    "\n",
    "im.mean_sq_error(out, truths)"
   ]
  }
 ],
 "metadata": {
  "kernelspec": {
   "display_name": "Python 3",
   "language": "python",
   "name": "python3"
  },
  "language_info": {
   "codemirror_mode": {
    "name": "ipython",
    "version": 3
   },
   "file_extension": ".py",
   "mimetype": "text/x-python",
   "name": "python",
   "nbconvert_exporter": "python",
   "pygments_lexer": "ipython3",
   "version": "3.11.4"
  }
 },
 "nbformat": 4,
 "nbformat_minor": 2
}
