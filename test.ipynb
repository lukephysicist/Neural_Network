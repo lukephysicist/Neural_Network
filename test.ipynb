{
 "cells": [
  {
   "cell_type": "code",
   "execution_count": 3,
   "metadata": {},
   "outputs": [],
   "source": [
    "import numpy as np\n",
    "import imports as im\n",
    "\n",
    "inputs = np.array([[2.5, 5],\n",
    "                   [4.6,-5.7],\n",
    "                   [5.5, -2.3]])\n",
    "\n",
    "truths = np.array([[1,0],\n",
    "                   [0,1],\n",
    "                   [1,0]])"
   ]
  },
  {
   "cell_type": "code",
   "execution_count": 4,
   "metadata": {},
   "outputs": [],
   "source": [
    "network = im.Network([im.DenseLayer(2, 3, 'relu'),\n",
    "                      im.DenseLayer(3, 3, \"relu\"),\n",
    "                      im.DenseLayer(3, 2, \"sigmoid\")], rate=.0001)\n",
    "\n"
   ]
  },
  {
   "cell_type": "code",
   "execution_count": 5,
   "metadata": {},
   "outputs": [
    {
     "data": {
      "text/plain": [
       "array([[5.00000000e-01, 5.00000000e-01],\n",
       "       [9.99581373e-01, 7.70139563e-08],\n",
       "       [9.97276237e-01, 3.99419304e-06]])"
      ]
     },
     "execution_count": 5,
     "metadata": {},
     "output_type": "execute_result"
    }
   ],
   "source": [
    "outs = network.network_forward(inputs, truths)\n",
    "\n",
    "outs"
   ]
  },
  {
   "cell_type": "code",
   "execution_count": 6,
   "metadata": {},
   "outputs": [
    {
     "name": "stdout",
     "output_type": "stream",
     "text": [
      "0.8330567288524616\n"
     ]
    }
   ],
   "source": [
    "print(network.loss)"
   ]
  },
  {
   "cell_type": "code",
   "execution_count": 7,
   "metadata": {},
   "outputs": [
    {
     "data": {
      "text/plain": [
       "array([[5.20752924e-01, 4.79178727e-01],\n",
       "       [9.99614654e-01, 7.08829451e-08],\n",
       "       [9.97492323e-01, 3.67621765e-06]])"
      ]
     },
     "execution_count": 7,
     "metadata": {},
     "output_type": "execute_result"
    }
   ],
   "source": [
    "network.network_back(truths)\n",
    "\n",
    "outs = network.network_forward(inputs, truths)\n",
    "outs"
   ]
  },
  {
   "cell_type": "code",
   "execution_count": 8,
   "metadata": {},
   "outputs": [
    {
     "name": "stdout",
     "output_type": "stream",
     "text": [
      "0.8195085386180384\n"
     ]
    }
   ],
   "source": [
    "print(network.loss)"
   ]
  },
  {
   "cell_type": "code",
   "execution_count": 38,
   "metadata": {},
   "outputs": [
    {
     "name": "stdout",
     "output_type": "stream",
     "text": [
      "network inputs: [array(['a', 'b', 'c', 'd', 'e', 'f', 'g', 'h', 'i', 'j'], dtype='<U1'), array(['k', 'l', 'm', 'n', 'o', 'p', 'q', 'r', 's', 't'], dtype='<U1'), array(['u', 'v', 'w', 'x', 'y', 'z'], dtype='<U1')]\n",
      "network truths: [array(['a*', 'b*', 'c*', 'd*', 'e*', 'f*', 'g*', 'h*', 'i*', 'j*'],\n",
      "      dtype='<U2'), array(['k*', 'l*', 'm*', 'n*', 'o*', 'p*', 'q*', 'r*', 's*', 't*'],\n",
      "      dtype='<U2'), array(['u*', 'v*', 'w*', 'x*', 'y*', 'z*'], dtype='<U2')]\n"
     ]
    }
   ],
   "source": [
    "training_samples = {chr(i): chr(i) + '*' for i in range(ord('a'), ord('z') + 1)}\n",
    "\n",
    "training_set = [dict(list(training_samples.items())[i: i+10]) for i in range(0, len(training_samples.items()), 10)]\n",
    "\n",
    "network_inputs = [np.array(list(batch.keys())) for batch in training_set]\n",
    "network_truths = [np.array(list(batch.values())) for batch in training_set]\n",
    "\n",
    "print(f'network inputs: {network_inputs}')\n",
    "print(f'network truths: {network_truths}')"
   ]
  }
 ],
 "metadata": {
  "kernelspec": {
   "display_name": "Python 3",
   "language": "python",
   "name": "python3"
  },
  "language_info": {
   "codemirror_mode": {
    "name": "ipython",
    "version": 3
   },
   "file_extension": ".py",
   "mimetype": "text/x-python",
   "name": "python",
   "nbconvert_exporter": "python",
   "pygments_lexer": "ipython3",
   "version": "3.11.3"
  }
 },
 "nbformat": 4,
 "nbformat_minor": 2
}
