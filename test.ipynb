{
 "cells": [
  {
   "cell_type": "code",
   "execution_count": 1,
   "metadata": {},
   "outputs": [],
   "source": [
    "import numpy as np\n",
    "from imports import DenseLayer, cat_cross_entropy\n",
    "\n",
    "inputs = np.array([[2.5, 5],\n",
    "                   [4.6,-5.7],\n",
    "                   [-2.2, 3]])"
   ]
  },
  {
   "cell_type": "code",
   "execution_count": 2,
   "metadata": {},
   "outputs": [],
   "source": [
    "layer1 = DenseLayer(2,3, 'sigmoid')\n",
    "\n",
    "layer2 = DenseLayer(3,4, 'relu')\n",
    "\n",
    "out_layer = DenseLayer(4,3, 'softmax')"
   ]
  },
  {
   "cell_type": "code",
   "execution_count": 3,
   "metadata": {},
   "outputs": [
    {
     "data": {
      "text/plain": [
       "array([[0.33254031, 0.33391598, 0.33354372],\n",
       "       [0.33255605, 0.3339044 , 0.33353955],\n",
       "       [0.33246244, 0.33397322, 0.33356434]])"
      ]
     },
     "execution_count": 3,
     "metadata": {},
     "output_type": "execute_result"
    }
   ],
   "source": [
    "two_in = layer1.forward(inputs)\n",
    "\n",
    "out_in = layer2.forward(two_in)\n",
    "\n",
    "out = out_layer.forward(out_in)\n",
    "\n",
    "out"
   ]
  },
  {
   "cell_type": "code",
   "execution_count": 4,
   "metadata": {},
   "outputs": [
    {
     "data": {
      "text/plain": [
       "5.37269861698611"
      ]
     },
     "execution_count": 4,
     "metadata": {},
     "output_type": "execute_result"
    }
   ],
   "source": [
    "truths = np.array([0,1,1])\n",
    "\n",
    "cat_cross_entropy(inputs, truths)"
   ]
  },
  {
   "cell_type": "code",
   "execution_count": null,
   "metadata": {},
   "outputs": [],
   "source": [
    "#drippin of the meat grinder"
   ]
  }
 ],
 "metadata": {
  "kernelspec": {
   "display_name": "Python 3",
   "language": "python",
   "name": "python3"
  },
  "language_info": {
   "codemirror_mode": {
    "name": "ipython",
    "version": 3
   },
   "file_extension": ".py",
   "mimetype": "text/x-python",
   "name": "python",
   "nbconvert_exporter": "python",
   "pygments_lexer": "ipython3",
   "version": "3.11.3"
  }
 },
 "nbformat": 4,
 "nbformat_minor": 2
}
