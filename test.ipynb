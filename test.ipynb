{
 "cells": [
  {
   "cell_type": "code",
   "execution_count": 5,
   "metadata": {},
   "outputs": [],
   "source": [
    "import numpy as np\n",
    "import imports as im\n",
    "\n",
    "inputs = np.array([[2.5, 5],\n",
    "                   [4.6,-5.7],\n",
    "                   [-2.2, 3]])"
   ]
  },
  {
   "cell_type": "code",
   "execution_count": 6,
   "metadata": {},
   "outputs": [],
   "source": [
    "layer1 = im.DenseLayer(2,3, im.sigmoid)\n",
    "\n",
    "layer2 = im.DenseLayer(3,4, im.relu)\n",
    "\n",
    "out_layer = im.DenseLayer(4,3, im.softmax)"
   ]
  },
  {
   "cell_type": "code",
   "execution_count": 7,
   "metadata": {},
   "outputs": [
    {
     "data": {
      "text/plain": [
       "array([[0.34170363, 0.32122676, 0.33706961],\n",
       "       [0.33807535, 0.32486517, 0.33705948],\n",
       "       [0.34189225, 0.32016967, 0.33793809]])"
      ]
     },
     "execution_count": 7,
     "metadata": {},
     "output_type": "execute_result"
    }
   ],
   "source": [
    "two_in = layer1.forward(inputs)\n",
    "\n",
    "out_in = layer2.forward(two_in)\n",
    "\n",
    "out = out_layer.forward(out_in)\n",
    "\n",
    "out"
   ]
  },
  {
   "cell_type": "code",
   "execution_count": 8,
   "metadata": {},
   "outputs": [
    {
     "data": {
      "text/plain": [
       "0.6669535602109419"
      ]
     },
     "execution_count": 8,
     "metadata": {},
     "output_type": "execute_result"
    }
   ],
   "source": [
    "truths = np.array([[0,0,1],\n",
    "                   [0,1,0],\n",
    "                   [0,0,1]])\n",
    "\n",
    "im.mean_sq_error(out, truths)"
   ]
  }
 ],
 "metadata": {
  "kernelspec": {
   "display_name": "Python 3",
   "language": "python",
   "name": "python3"
  },
  "language_info": {
   "codemirror_mode": {
    "name": "ipython",
    "version": 3
   },
   "file_extension": ".py",
   "mimetype": "text/x-python",
   "name": "python",
   "nbconvert_exporter": "python",
   "pygments_lexer": "ipython3",
   "version": "3.11.3"
  }
 },
 "nbformat": 4,
 "nbformat_minor": 2
}
